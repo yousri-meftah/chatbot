{
 "cells": [
  {
   "cell_type": "code",
   "execution_count": null,
   "metadata": {},
   "outputs": [],
   "source": [
    "import pandas as pd\n",
    "from sklearn.tree import DecisionTreeClassifier\n",
    "from sklearn.model_selection import train_test_split\n",
    "from sklearn.metrics import accuracy_score\n",
    "import numpy as np\n",
    "import joblib\n",
    "from sklearn import tree\n",
    "from sklearn.metrics import classification_report\n"
   ]
  },
  {
   "cell_type": "code",
   "execution_count": 12,
   "metadata": {},
   "outputs": [
    {
     "name": "stderr",
     "output_type": "stream",
     "text": [
      "C:\\Users\\HP\\AppData\\Local\\Temp\\ipykernel_1056\\2075150273.py:7: FutureWarning: In a future version of pandas all arguments of Index.drop_duplicates will be keyword-only.\n",
      "  symptoms = df.columns[1:-2].drop_duplicates([\"Disease name\",\"Severity\"])\n"
     ]
    }
   ],
   "source": [
    "# Load the dog diseases dataset\n",
    "df = pd.read_csv(\"dataset.csv\")\n",
    "df = df. replace(np. nan,0)\n",
    "#df[\"Severity\"] = df[\"Severity\"].map({\"mild\": 0, \"mild-moderate\": 1, \"moderate-severe\":2, \"severe\": 3})\n",
    "\n",
    "# Define the input features (symptoms) and target variable (disease)\n",
    "symptoms = df.columns[1:-2].drop_duplicates([\"Disease name\",\"Severity\"])\n",
    "df = df.reset_index(drop=True)\n",
    "disease = df['Disease name']\n",
    "severity = df['Severity']\n",
    "\n",
    "# Split the dataset into training and testing sets\n",
    "X_train, X_test, y_sev_train, y_sev_test, y_dis_train, y_dis_test = train_test_split(df[symptoms], severity, disease, test_size=0.2, random_state=42)\n"
   ]
  },
  {
   "cell_type": "code",
   "execution_count": 13,
   "metadata": {},
   "outputs": [
    {
     "data": {
      "text/plain": [
       "DecisionTreeClassifier()"
      ]
     },
     "execution_count": 13,
     "metadata": {},
     "output_type": "execute_result"
    }
   ],
   "source": [
    "# Train a decision tree model for disease prediction\n",
    "dis_tree = DecisionTreeClassifier()\n",
    "dis_tree.fit(X_train, y_dis_train)"
   ]
  },
  {
   "cell_type": "code",
   "execution_count": 14,
   "metadata": {},
   "outputs": [
    {
     "data": {
      "text/plain": [
       "DecisionTreeClassifier()"
      ]
     },
     "execution_count": 14,
     "metadata": {},
     "output_type": "execute_result"
    }
   ],
   "source": [
    "sev_tree = DecisionTreeClassifier()\n",
    "sev_tree.fit(X_train, y_sev_train)"
   ]
  },
  {
   "cell_type": "code",
   "execution_count": 15,
   "metadata": {},
   "outputs": [
    {
     "name": "stdout",
     "output_type": "stream",
     "text": [
      "Disease prediction accuracy: 1.0\n",
      "Severity prediction accuracy: 1.0\n"
     ]
    }
   ],
   "source": [
    "# Make predictions on the test set\n",
    "y_sev_pred = sev_tree.predict(X_test)\n",
    "y_dis_pred = dis_tree.predict(X_test)\n",
    "\n",
    "# Evaluate the accuracy of the models\n",
    "sev_accuracy = accuracy_score(y_sev_test, y_sev_pred)\n",
    "dis_accuracy = accuracy_score(y_dis_test, y_dis_pred)\n",
    "\n",
    "print(\"Disease prediction accuracy:\", dis_accuracy)\n",
    "print(\"Severity prediction accuracy:\", sev_accuracy)\n",
    "\n"
   ]
  },
  {
   "cell_type": "code",
   "execution_count": 16,
   "metadata": {},
   "outputs": [
    {
     "name": "stdout",
     "output_type": "stream",
     "text": [
      "Classification report of severity : \n",
      "                  precision    recall  f1-score   support\n",
      "\n",
      "  mild-moderate       1.00      1.00      1.00         4\n",
      "moderate-severe       1.00      1.00      1.00         8\n",
      "         severe       1.00      1.00      1.00         6\n",
      "\n",
      "       accuracy                           1.00        18\n",
      "      macro avg       1.00      1.00      1.00        18\n",
      "   weighted avg       1.00      1.00      1.00        18\n",
      "\n",
      "Classification report of disease : \n",
      "                    precision    recall  f1-score   support\n",
      "\n",
      " Canine Destemper       1.00      1.00      1.00         3\n",
      "  Canine Infuenza       1.00      1.00      1.00         1\n",
      "Canine Parvovirus       1.00      1.00      1.00         2\n",
      "       Giardiasis       1.00      1.00      1.00         1\n",
      "Heartworm Disease       1.00      1.00      1.00         2\n",
      "     Kennel Cough       1.00      1.00      1.00         2\n",
      "    Leptospirosis       1.00      1.00      1.00         4\n",
      "     Lyme Disease       1.00      1.00      1.00         1\n",
      "          Obesity       1.00      1.00      1.00         1\n",
      "           Rabies       1.00      1.00      1.00         1\n",
      "\n",
      "         accuracy                           1.00        18\n",
      "        macro avg       1.00      1.00      1.00        18\n",
      "     weighted avg       1.00      1.00      1.00        18\n",
      "\n"
     ]
    }
   ],
   "source": [
    "from sklearn.metrics import classification_report\n",
    "\n",
    "print(\"Classification report of severity : \\n\",classification_report(y_sev_test, y_sev_pred))\n",
    "print(\"Classification report of disease : \\n\",classification_report(y_dis_test, y_dis_pred))\n",
    "\n"
   ]
  },
  {
   "cell_type": "code",
   "execution_count": null,
   "metadata": {},
   "outputs": [],
   "source": [
    "# Save the trained models to disk\n",
    "joblib.dump(sev_tree, \"severity_model.joblib\")\n",
    "joblib.dump(dis_tree, \"treatment_model.joblib\")"
   ]
  },
  {
   "cell_type": "code",
   "execution_count": null,
   "metadata": {},
   "outputs": [],
   "source": [
    "# Define a function to prompt the user for symptoms\n",
    "def prompt_user():\n",
    "    symptoms = []\n",
    "    for symptom in df.columns[:-1]:\n",
    "        response = input(f\"Does your dog have {symptom.lower()}? (y/n): \")\n",
    "        if response.lower() == 'y':\n",
    "            symptoms.append(1)\n",
    "        else:\n",
    "            symptoms.append(0)\n",
    "    return symptoms"
   ]
  },
  {
   "cell_type": "code",
   "execution_count": null,
   "metadata": {},
   "outputs": [],
   "source": [
    "# Define a function to make predictions using the model\n",
    "def predict(symptoms):\n",
    "    # Load the trained model from disk\n",
    "    model = joblib.load(\"disease_model.joblib\")\n",
    "    \n",
    "    # Make a prediction for the disease based on the symptoms\n",
    "    pred = model.predict([symptoms])[0]\n",
    "    confidence = model.predict_proba([symptoms]).max()\n",
    "    msg = f\"The most likely disease is {pred} with {confidence:.2%} confidence.\"\n",
    "    \n",
    "    return msg\n"
   ]
  }
 ],
 "metadata": {
  "kernelspec": {
   "display_name": "base",
   "language": "python",
   "name": "python3"
  },
  "language_info": {
   "codemirror_mode": {
    "name": "ipython",
    "version": 3
   },
   "file_extension": ".py",
   "mimetype": "text/x-python",
   "name": "python",
   "nbconvert_exporter": "python",
   "pygments_lexer": "ipython3",
   "version": "3.9.13"
  },
  "orig_nbformat": 4
 },
 "nbformat": 4,
 "nbformat_minor": 2
}
